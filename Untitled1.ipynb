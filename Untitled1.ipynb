{
  "nbformat": 4,
  "nbformat_minor": 0,
  "metadata": {
    "colab": {
      "provenance": [],
      "authorship_tag": "ABX9TyNLzBQKo891BvOMgPq8y36O",
      "include_colab_link": true
    },
    "kernelspec": {
      "name": "python3",
      "display_name": "Python 3"
    },
    "language_info": {
      "name": "python"
    }
  },
  "cells": [
    {
      "cell_type": "markdown",
      "metadata": {
        "id": "view-in-github",
        "colab_type": "text"
      },
      "source": [
        "<a href=\"https://colab.research.google.com/github/NehalPisalkar/Nehal2025/blob/main/Untitled1.ipynb\" target=\"_parent\"><img src=\"https://colab.research.google.com/assets/colab-badge.svg\" alt=\"Open In Colab\"/></a>"
      ]
    },
    {
      "cell_type": "code",
      "execution_count": 1,
      "metadata": {
        "id": "_ktiurZv8gST"
      },
      "outputs": [],
      "source": [
        "import numpy as np\n",
        "\n"
      ]
    },
    {
      "cell_type": "code",
      "source": [
        "# b =  np.array([\n",
        "#     [1,2],\n",
        "#  [3,4]])\n",
        "# print(b)"
      ],
      "metadata": {
        "id": "DlQXyH6L8k_u"
      },
      "execution_count": 2,
      "outputs": []
    },
    {
      "cell_type": "code",
      "source": [
        "# c = np.array([[1,2],[3,4],\n",
        "#  [4,5],[6,7]])\n",
        "# c"
      ],
      "metadata": {
        "id": "BiBxLk2T8r3c"
      },
      "execution_count": 3,
      "outputs": []
    },
    {
      "cell_type": "code",
      "source": [],
      "metadata": {
        "id": "UdL5B3-CAFDz"
      },
      "execution_count": 3,
      "outputs": []
    },
    {
      "cell_type": "code",
      "source": [
        "# a= np.array([1,2,3],dtype=complex)\n",
        "# print(a)\n",
        "# (a.dtype)"
      ],
      "metadata": {
        "id": "E7K0hyAGB0jj"
      },
      "execution_count": 4,
      "outputs": []
    },
    {
      "cell_type": "code",
      "source": [
        "# a = np.array([[[1,2,3],[1,2,3]],[[1,2,3],\n",
        "#                 [1,2,3]],[[1,2,3],[1,2,3]],\n",
        "#                 [[1,2,3],[1,2,3]]])\n",
        "# a"
      ],
      "metadata": {
        "id": "2zmqKShGE7To"
      },
      "execution_count": 5,
      "outputs": []
    },
    {
      "cell_type": "code",
      "source": [
        "# a = np.arange(15,60,4)\n",
        "# a"
      ],
      "metadata": {
        "id": "vShh9dQWFaPg"
      },
      "execution_count": 6,
      "outputs": []
    },
    {
      "cell_type": "code",
      "source": [
        "# u = np.arange(12).reshape(1,1)\n",
        "# u"
      ],
      "metadata": {
        "id": "-zEC1sQLIaNX"
      },
      "execution_count": 7,
      "outputs": []
    },
    {
      "cell_type": "code",
      "source": [
        "# # np.ones((2,2,2))\n",
        "# np.zeros((3,3,3))"
      ],
      "metadata": {
        "id": "siSmXL2dKGq4"
      },
      "execution_count": 8,
      "outputs": []
    },
    {
      "cell_type": "code",
      "source": [
        "# #2\n",
        "# import numpy as np\n",
        "# a = np.arange(50)  # Creates a 1D array from 0 to 23\n",
        "# b = a.reshape(5,5 , 2)  # Reshape it into a 2x3x4 3D array\n",
        "# print(b)\n",
        "\n"
      ],
      "metadata": {
        "id": "K-9yTfx2Kb2O"
      },
      "execution_count": 9,
      "outputs": []
    },
    {
      "cell_type": "code",
      "source": [
        "# np.random.random((3,4))\n"
      ],
      "metadata": {
        "id": "npPig6WyLTY0"
      },
      "execution_count": 10,
      "outputs": []
    },
    {
      "cell_type": "code",
      "source": [
        "# import numpy as np\n",
        "# a = np.linspace(1, 10, 20)\n",
        "# print(a)"
      ],
      "metadata": {
        "id": "Zf41UPw8M7Xa"
      },
      "execution_count": 11,
      "outputs": []
    },
    {
      "cell_type": "code",
      "source": [
        "a = np.arange(10)\n",
        "print(a.ndim)\n"
      ],
      "metadata": {
        "id": "3Q1YOc8DOnnE",
        "colab": {
          "base_uri": "https://localhost:8080/"
        },
        "outputId": "0be82fac-9a68-4ee8-8547-e78f3c5b9e0b"
      },
      "execution_count": 12,
      "outputs": [
        {
          "output_type": "stream",
          "name": "stdout",
          "text": [
            "1\n"
          ]
        }
      ]
    },
    {
      "cell_type": "code",
      "source": [],
      "metadata": {
        "id": "hIXxlLEPi6Cz"
      },
      "execution_count": 12,
      "outputs": []
    },
    {
      "cell_type": "code",
      "source": [
        "# a = np.arange(10)\n",
        "# print(a.itemsize)"
      ],
      "metadata": {
        "colab": {
          "base_uri": "https://localhost:8080/"
        },
        "id": "1vLCSI7WlV-a",
        "outputId": "d4251afa-7ba6-4ad0-ab33-957181b4a5ac"
      },
      "execution_count": 13,
      "outputs": [
        {
          "output_type": "stream",
          "name": "stdout",
          "text": [
            "8\n"
          ]
        }
      ]
    },
    {
      "cell_type": "code",
      "source": [
        "# a = np.arange(10,dtype=np.int32)\n",
        "# print(a.dtype)"
      ],
      "metadata": {
        "colab": {
          "base_uri": "https://localhost:8080/"
        },
        "id": "5R-7YD7rnNNP",
        "outputId": "2d7eb7c8-8790-460b-fe25-18692fa3f8e2"
      },
      "execution_count": 14,
      "outputs": [
        {
          "output_type": "stream",
          "name": "stdout",
          "text": [
            "int32\n"
          ]
        }
      ]
    },
    {
      "cell_type": "code",
      "source": [
        "# a = np.arange(10,dtype=np.int32)\n",
        "# # print(a.nbytes)"
      ],
      "metadata": {
        "colab": {
          "base_uri": "https://localhost:8080/"
        },
        "id": "a-Biz5o7nYjr",
        "outputId": "32553527-5000-4cd5-f9a2-c1c40fe0e0ac"
      },
      "execution_count": 15,
      "outputs": [
        {
          "output_type": "stream",
          "name": "stdout",
          "text": [
            "40\n"
          ]
        }
      ]
    },
    {
      "cell_type": "markdown",
      "source": [],
      "metadata": {
        "id": "Z2rzccQ9ofzY"
      }
    },
    {
      "cell_type": "code",
      "source": [],
      "metadata": {
        "id": "Q6LK_68RonbD"
      },
      "execution_count": 15,
      "outputs": []
    },
    {
      "cell_type": "code",
      "source": [],
      "metadata": {
        "id": "jIrgkL0fnjjA"
      },
      "execution_count": 15,
      "outputs": []
    },
    {
      "cell_type": "code",
      "source": [
        "# a2 = np.arange(12,dtype=float).reshape(3,4)\n",
        "# print(a2.ndim)"
      ],
      "metadata": {
        "colab": {
          "base_uri": "https://localhost:8080/"
        },
        "id": "rZN61grOoaK4",
        "outputId": "1aa9b527-0a6d-4db0-aaf7-a9202086d476"
      },
      "execution_count": 16,
      "outputs": [
        {
          "output_type": "stream",
          "name": "stdout",
          "text": [
            "2\n"
          ]
        }
      ]
    },
    {
      "cell_type": "code",
      "source": [
        "print(a2.shape)"
      ],
      "metadata": {
        "colab": {
          "base_uri": "https://localhost:8080/"
        },
        "id": "feT9cczyo6sO",
        "outputId": "0b90f1db-1f1f-4747-d8ea-0f41e72303bf"
      },
      "execution_count": 17,
      "outputs": [
        {
          "output_type": "stream",
          "name": "stdout",
          "text": [
            "(3, 4)\n"
          ]
        }
      ]
    },
    {
      "cell_type": "code",
      "source": [
        "print(a2.dtype)"
      ],
      "metadata": {
        "colab": {
          "base_uri": "https://localhost:8080/"
        },
        "id": "17tnRp7TpORJ",
        "outputId": "85c57c05-c373-403c-d0d3-3848d60db404"
      },
      "execution_count": 18,
      "outputs": [
        {
          "output_type": "stream",
          "name": "stdout",
          "text": [
            "float64\n"
          ]
        }
      ]
    },
    {
      "cell_type": "code",
      "source": [
        "print(a2.shape)"
      ],
      "metadata": {
        "colab": {
          "base_uri": "https://localhost:8080/"
        },
        "id": "A_K7iVhJpRrL",
        "outputId": "c054d96c-e4a6-4b29-8d50-b4f15ba641f8"
      },
      "execution_count": 19,
      "outputs": [
        {
          "output_type": "stream",
          "name": "stdout",
          "text": [
            "(3, 4)\n"
          ]
        }
      ]
    },
    {
      "cell_type": "code",
      "source": [
        "a2.astype(np.float64)"
      ],
      "metadata": {
        "colab": {
          "base_uri": "https://localhost:8080/"
        },
        "id": "6Xe0h9HMpa7t",
        "outputId": "21adae65-35e1-4de1-95db-3f67e742e5bb"
      },
      "execution_count": 20,
      "outputs": [
        {
          "output_type": "execute_result",
          "data": {
            "text/plain": [
              "array([[ 0.,  1.,  2.,  3.],\n",
              "       [ 4.,  5.,  6.,  7.],\n",
              "       [ 8.,  9., 10., 11.]])"
            ]
          },
          "metadata": {},
          "execution_count": 20
        }
      ]
    },
    {
      "cell_type": "code",
      "source": [
        "a.astype(np.float64).dtype"
      ],
      "metadata": {
        "colab": {
          "base_uri": "https://localhost:8080/"
        },
        "id": "zXg3fgsvqI3N",
        "outputId": "6fe26911-f07c-42f7-89fb-959752ea2eec"
      },
      "execution_count": 21,
      "outputs": [
        {
          "output_type": "execute_result",
          "data": {
            "text/plain": [
              "dtype('float64')"
            ]
          },
          "metadata": {},
          "execution_count": 21
        }
      ]
    },
    {
      "cell_type": "code",
      "source": [
        "# import numpy as np\n",
        "\n",
        "# a = np.array([1, 2])\n",
        "# b = np.array([3, 4])\n",
        "# print(np.dot(a, b))  # Output: 11\n",
        "\n",
        "\n",
        "\n"
      ],
      "metadata": {
        "id": "jcgwA0-hqUUM",
        "colab": {
          "base_uri": "https://localhost:8080/"
        },
        "outputId": "efd10056-e1a9-48a5-d584-996320db98ad"
      },
      "execution_count": 4,
      "outputs": [
        {
          "output_type": "stream",
          "name": "stdout",
          "text": [
            "11\n"
          ]
        }
      ]
    },
    {
      "cell_type": "code",
      "source": [
        "# a = np.array([1,2,3,4])\n",
        "# a\n",
        "# print(np.exp(a))\n",
        "# print(np.log(a))\n",
        "# print(np.log2(a))\n",
        "# print(np.log10(a))"
      ],
      "metadata": {
        "colab": {
          "base_uri": "https://localhost:8080/"
        },
        "id": "54COWwYYDU73",
        "outputId": "5e09620b-502c-46d8-a786-9f87f3b213af"
      },
      "execution_count": 11,
      "outputs": [
        {
          "output_type": "stream",
          "name": "stdout",
          "text": [
            "[ 2.71828183  7.3890561  20.08553692 54.59815003]\n",
            "[0.         0.69314718 1.09861229 1.38629436]\n",
            "[0.        1.        1.5849625 2.       ]\n",
            "[0.         0.30103    0.47712125 0.60205999]\n"
          ]
        }
      ]
    },
    {
      "cell_type": "code",
      "source": [
        "# import numpy as np\n",
        "\n",
        "# a = np.array([1.2, 2.5, 3.7, -1.2, -2.5, -3.7])\n",
        "\n",
        "# print(\"Original:\", a)\n",
        "# print(\"Round:\", np.round(a))\n",
        "# print(\"Floor:\", np.floor(a))\n",
        "# print(\"Ceil:\", np.ceil(a))"
      ],
      "metadata": {
        "colab": {
          "base_uri": "https://localhost:8080/"
        },
        "id": "SfrNDON7Eevi",
        "outputId": "9ab87014-4fdb-4400-e8ad-adbbdbcbc181"
      },
      "execution_count": 12,
      "outputs": [
        {
          "output_type": "stream",
          "name": "stdout",
          "text": [
            "Original: [ 1.2  2.5  3.7 -1.2 -2.5 -3.7]\n",
            "Round: [ 1.  2.  4. -1. -2. -4.]\n",
            "Floor: [ 1.  2.  3. -2. -3. -4.]\n",
            "Ceil: [ 2.  3.  4. -1. -2. -3.]\n"
          ]
        }
      ]
    },
    {
      "cell_type": "code",
      "source": [
        "a1 = np.arange(10)\n",
        "a1[3]"
      ],
      "metadata": {
        "colab": {
          "base_uri": "https://localhost:8080/"
        },
        "id": "6ZCqgdCXFg94",
        "outputId": "b4c253e3-c885-496e-c47d-ef327e63da72"
      },
      "execution_count": 15,
      "outputs": [
        {
          "output_type": "execute_result",
          "data": {
            "text/plain": [
              "np.int64(3)"
            ]
          },
          "metadata": {},
          "execution_count": 15
        }
      ]
    },
    {
      "cell_type": "code",
      "source": [
        "a1[4]"
      ],
      "metadata": {
        "colab": {
          "base_uri": "https://localhost:8080/"
        },
        "id": "7RrRBkfkNGPi",
        "outputId": "dce36c87-f0e9-4f3c-d27d-be238390d6a0"
      },
      "execution_count": 16,
      "outputs": [
        {
          "output_type": "execute_result",
          "data": {
            "text/plain": [
              "np.int64(4)"
            ]
          },
          "metadata": {},
          "execution_count": 16
        }
      ]
    },
    {
      "cell_type": "code",
      "source": [
        "a2=np.arange(12).reshape(3,4)\n",
        "a2\n",
        "a2[0:2,1::2]\n"
      ],
      "metadata": {
        "colab": {
          "base_uri": "https://localhost:8080/"
        },
        "id": "RvDP8EzoNb0x",
        "outputId": "a20422b1-68c9-4bd3-b834-8be53f1a8651"
      },
      "execution_count": 18,
      "outputs": [
        {
          "output_type": "execute_result",
          "data": {
            "text/plain": [
              "array([[1, 3],\n",
              "       [5, 7]])"
            ]
          },
          "metadata": {},
          "execution_count": 18
        }
      ]
    },
    {
      "cell_type": "code",
      "source": [
        "a2[::2,1::2]"
      ],
      "metadata": {
        "colab": {
          "base_uri": "https://localhost:8080/"
        },
        "id": "NHCLxlR-NyiI",
        "outputId": "dd2134a8-b556-43a3-f43c-cdba19cd5f18"
      },
      "execution_count": 19,
      "outputs": [
        {
          "output_type": "execute_result",
          "data": {
            "text/plain": [
              "array([[ 1,  3],\n",
              "       [ 9, 11]])"
            ]
          },
          "metadata": {},
          "execution_count": 19
        }
      ]
    },
    {
      "cell_type": "code",
      "source": [
        "print(a2[1][2])     # → 6 (row 1, column 2)\n",
        "print(a2[1, 2])     # → 6 (same as above, preferred)\n",
        "\n",
        "#Slicing\n",
        "print(a2[0])        # → [0 1 2 3] (first row)\n",
        "print(a2[:, 1])     # → [1 5 9]   (second column)\n",
        "print(a2[1:, 2:])   # → [[6 7], [10 11]]\n"
      ],
      "metadata": {
        "colab": {
          "base_uri": "https://localhost:8080/"
        },
        "id": "lgNCzliYNiFJ",
        "outputId": "fd81feb6-372f-43b2-b462-34289453d444"
      },
      "execution_count": 22,
      "outputs": [
        {
          "output_type": "stream",
          "name": "stdout",
          "text": [
            "6\n",
            "6\n",
            "[0 1 2 3]\n",
            "[1 5 9]\n",
            "[[ 6  7]\n",
            " [10 11]]\n"
          ]
        }
      ]
    },
    {
      "cell_type": "code",
      "source": [
        "a3 = np.arange(8).reshape(2,2,2)\n",
        "# print(a3[1, 0, 1])   # → 5 (block 1, row 0, col 1)\n",
        "# print(a3[0, 1])      # → [2 3]\n",
        "\n",
        "# #Slicing\n",
        "# a3[:, 0, :]   # → first row of all blocks → [[0 1], [4 5]]\n",
        "# a3[:, :, 1]   # → second column of all rows/blocks → [[1 3], [5 7]]\n",
        "# a3[1, 0, 1]   # → 5 (block 1, row 0, col 1)\n",
        "# a3[0, 1]      # → [2 3]\n",
        "\n",
        "# #Slicing\n",
        "print(a3[:, 0, :])   # → first row of all blocks → [[0 1], [4 5]]\n",
        "print(a3[:, :, 1])   # → second column of all rows/blocks → [[1 3], [5 7]]\n",
        "print(a3[1, :, :])   # → entire 2x2 block from index 1\n",
        "\n",
        "\n"
      ],
      "metadata": {
        "colab": {
          "base_uri": "https://localhost:8080/"
        },
        "id": "ULDPLcjdODCA",
        "outputId": "26e96454-1ac2-4654-c8f2-c8ce8d45f893"
      },
      "execution_count": 26,
      "outputs": [
        {
          "output_type": "stream",
          "name": "stdout",
          "text": [
            "[[0 1]\n",
            " [4 5]]\n",
            "[[1 3]\n",
            " [5 7]]\n",
            "[[4 5]\n",
            " [6 7]]\n"
          ]
        }
      ]
    },
    {
      "cell_type": "code",
      "source": [],
      "metadata": {
        "id": "zMgwie6ZPnJp"
      },
      "execution_count": 27,
      "outputs": []
    },
    {
      "cell_type": "code",
      "source": [],
      "metadata": {
        "id": "8H7P9iTIQTXc"
      },
      "execution_count": null,
      "outputs": []
    }
  ]
}