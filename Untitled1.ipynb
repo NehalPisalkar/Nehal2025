{
  "nbformat": 4,
  "nbformat_minor": 0,
  "metadata": {
    "colab": {
      "provenance": [],
      "authorship_tag": "ABX9TyOWUNFxbA1SeDzYjlo2WAJk",
      "include_colab_link": true
    },
    "kernelspec": {
      "name": "python3",
      "display_name": "Python 3"
    },
    "language_info": {
      "name": "python"
    }
  },
  "cells": [
    {
      "cell_type": "markdown",
      "metadata": {
        "id": "view-in-github",
        "colab_type": "text"
      },
      "source": [
        "<a href=\"https://colab.research.google.com/github/NehalPisalkar/Nehal2025/blob/main/Untitled1.ipynb\" target=\"_parent\"><img src=\"https://colab.research.google.com/assets/colab-badge.svg\" alt=\"Open In Colab\"/></a>"
      ]
    },
    {
      "cell_type": "code",
      "execution_count": 8,
      "metadata": {
        "id": "_ktiurZv8gST"
      },
      "outputs": [],
      "source": [
        "import numpy as np\n",
        "\n"
      ]
    },
    {
      "cell_type": "code",
      "source": [
        "# b =  np.array([\n",
        "#     [1,2],\n",
        "#  [3,4]])\n",
        "# print(b)"
      ],
      "metadata": {
        "colab": {
          "base_uri": "https://localhost:8080/"
        },
        "id": "DlQXyH6L8k_u",
        "outputId": "77e80c84-3e6a-4d79-b37d-afc098292cc8"
      },
      "execution_count": 18,
      "outputs": [
        {
          "output_type": "stream",
          "name": "stdout",
          "text": [
            "[[1 2]\n",
            " [3 4]]\n"
          ]
        }
      ]
    },
    {
      "cell_type": "code",
      "source": [
        "# c = np.array([[1,2],[3,4],\n",
        "#  [4,5],[6,7]])\n",
        "# c"
      ],
      "metadata": {
        "colab": {
          "base_uri": "https://localhost:8080/"
        },
        "id": "BiBxLk2T8r3c",
        "outputId": "b35bd846-2021-4bcc-dccd-9c033633d5a7"
      },
      "execution_count": 20,
      "outputs": [
        {
          "output_type": "execute_result",
          "data": {
            "text/plain": [
              "array([[1, 2],\n",
              "       [3, 4],\n",
              "       [4, 5],\n",
              "       [6, 7]])"
            ]
          },
          "metadata": {},
          "execution_count": 20
        }
      ]
    },
    {
      "cell_type": "code",
      "source": [],
      "metadata": {
        "colab": {
          "base_uri": "https://localhost:8080/"
        },
        "id": "UdL5B3-CAFDz",
        "outputId": "ad3b4d5e-138e-48ba-cecc-3bae4b95efe7"
      },
      "execution_count": 21,
      "outputs": [
        {
          "output_type": "execute_result",
          "data": {
            "text/plain": [
              "array([[[1, 2],\n",
              "        [2, 3]],\n",
              "\n",
              "       [[4, 5],\n",
              "        [6, 7]]])"
            ]
          },
          "metadata": {},
          "execution_count": 21
        }
      ]
    },
    {
      "cell_type": "code",
      "source": [
        "# a= np.array([1,2,3],dtype=complex)\n",
        "# print(a)\n",
        "# (a.dtype)"
      ],
      "metadata": {
        "colab": {
          "base_uri": "https://localhost:8080/"
        },
        "id": "E7K0hyAGB0jj",
        "outputId": "34d19871-8fab-4b12-81d7-7acc6ac2ebf7"
      },
      "execution_count": 33,
      "outputs": [
        {
          "output_type": "stream",
          "name": "stdout",
          "text": [
            "[1.+0.j 2.+0.j 3.+0.j]\n"
          ]
        },
        {
          "output_type": "execute_result",
          "data": {
            "text/plain": [
              "dtype('complex128')"
            ]
          },
          "metadata": {},
          "execution_count": 33
        }
      ]
    },
    {
      "cell_type": "code",
      "source": [
        "# a = np.array([[[1,2,3],[1,2,3]],[[1,2,3],\n",
        "#                 [1,2,3]],[[1,2,3],[1,2,3]],\n",
        "#                 [[1,2,3],[1,2,3]]])\n",
        "# a"
      ],
      "metadata": {
        "colab": {
          "base_uri": "https://localhost:8080/"
        },
        "id": "2zmqKShGE7To",
        "outputId": "79dfd296-854d-4f97-8239-bca65487c548"
      },
      "execution_count": 37,
      "outputs": [
        {
          "output_type": "execute_result",
          "data": {
            "text/plain": [
              "array([[[1, 2, 3],\n",
              "        [1, 2, 3]],\n",
              "\n",
              "       [[1, 2, 3],\n",
              "        [1, 2, 3]],\n",
              "\n",
              "       [[1, 2, 3],\n",
              "        [1, 2, 3]],\n",
              "\n",
              "       [[1, 2, 3],\n",
              "        [1, 2, 3]]])"
            ]
          },
          "metadata": {},
          "execution_count": 37
        }
      ]
    },
    {
      "cell_type": "code",
      "source": [
        "# a = np.arange(15,60,4)\n",
        "# a"
      ],
      "metadata": {
        "colab": {
          "base_uri": "https://localhost:8080/"
        },
        "id": "vShh9dQWFaPg",
        "outputId": "d78943dd-6609-4839-91c6-b5bb5ab28ebb"
      },
      "execution_count": 36,
      "outputs": [
        {
          "output_type": "execute_result",
          "data": {
            "text/plain": [
              "array([15, 19, 23, 27, 31, 35, 39, 43, 47, 51, 55, 59])"
            ]
          },
          "metadata": {},
          "execution_count": 36
        }
      ]
    },
    {
      "cell_type": "code",
      "source": [
        "# u = np.arange(12).reshape(1,1)\n",
        "# u"
      ],
      "metadata": {
        "colab": {
          "base_uri": "https://localhost:8080/",
          "height": 158
        },
        "id": "-zEC1sQLIaNX",
        "outputId": "827d4626-9cda-4bf3-be5b-ccca91b2b92c"
      },
      "execution_count": 39,
      "outputs": [
        {
          "output_type": "error",
          "ename": "ValueError",
          "evalue": "cannot reshape array of size 12 into shape (1,1)",
          "traceback": [
            "\u001b[0;31m---------------------------------------------------------------------------\u001b[0m",
            "\u001b[0;31mValueError\u001b[0m                                Traceback (most recent call last)",
            "\u001b[0;32m<ipython-input-39-a566a71d229b>\u001b[0m in \u001b[0;36m<cell line: 0>\u001b[0;34m()\u001b[0m\n\u001b[0;32m----> 1\u001b[0;31m \u001b[0mu\u001b[0m \u001b[0;34m=\u001b[0m \u001b[0mnp\u001b[0m\u001b[0;34m.\u001b[0m\u001b[0marange\u001b[0m\u001b[0;34m(\u001b[0m\u001b[0;36m12\u001b[0m\u001b[0;34m)\u001b[0m\u001b[0;34m.\u001b[0m\u001b[0mreshape\u001b[0m\u001b[0;34m(\u001b[0m\u001b[0;36m1\u001b[0m\u001b[0;34m,\u001b[0m\u001b[0;36m1\u001b[0m\u001b[0;34m)\u001b[0m\u001b[0;34m\u001b[0m\u001b[0;34m\u001b[0m\u001b[0m\n\u001b[0m\u001b[1;32m      2\u001b[0m \u001b[0mu\u001b[0m\u001b[0;34m\u001b[0m\u001b[0;34m\u001b[0m\u001b[0m\n",
            "\u001b[0;31mValueError\u001b[0m: cannot reshape array of size 12 into shape (1,1)"
          ]
        }
      ]
    },
    {
      "cell_type": "code",
      "source": [
        "# np.ones((2,2,2))\n",
        "np.zeros((3,3,3))"
      ],
      "metadata": {
        "colab": {
          "base_uri": "https://localhost:8080/"
        },
        "id": "siSmXL2dKGq4",
        "outputId": "2ff29823-9dbe-44d3-fc9a-af09b7f94639"
      },
      "execution_count": 42,
      "outputs": [
        {
          "output_type": "execute_result",
          "data": {
            "text/plain": [
              "array([[[0., 0., 0.],\n",
              "        [0., 0., 0.],\n",
              "        [0., 0., 0.]],\n",
              "\n",
              "       [[0., 0., 0.],\n",
              "        [0., 0., 0.],\n",
              "        [0., 0., 0.]],\n",
              "\n",
              "       [[0., 0., 0.],\n",
              "        [0., 0., 0.],\n",
              "        [0., 0., 0.]]])"
            ]
          },
          "metadata": {},
          "execution_count": 42
        }
      ]
    },
    {
      "cell_type": "code",
      "source": [
        "#2\n",
        "import numpy as np\n",
        "a = np.arange(50)  # Creates a 1D array from 0 to 23\n",
        "b = a.reshape(5,5 , 2)  # Reshape it into a 2x3x4 3D array\n",
        "print(b)\n",
        "\n"
      ],
      "metadata": {
        "colab": {
          "base_uri": "https://localhost:8080/"
        },
        "id": "K-9yTfx2Kb2O",
        "outputId": "4781eadc-b626-4fea-b3b1-59c5f20186ef"
      },
      "execution_count": 44,
      "outputs": [
        {
          "output_type": "stream",
          "name": "stdout",
          "text": [
            "[[[ 0  1]\n",
            "  [ 2  3]\n",
            "  [ 4  5]\n",
            "  [ 6  7]\n",
            "  [ 8  9]]\n",
            "\n",
            " [[10 11]\n",
            "  [12 13]\n",
            "  [14 15]\n",
            "  [16 17]\n",
            "  [18 19]]\n",
            "\n",
            " [[20 21]\n",
            "  [22 23]\n",
            "  [24 25]\n",
            "  [26 27]\n",
            "  [28 29]]\n",
            "\n",
            " [[30 31]\n",
            "  [32 33]\n",
            "  [34 35]\n",
            "  [36 37]\n",
            "  [38 39]]\n",
            "\n",
            " [[40 41]\n",
            "  [42 43]\n",
            "  [44 45]\n",
            "  [46 47]\n",
            "  [48 49]]]\n"
          ]
        }
      ]
    },
    {
      "cell_type": "code",
      "source": [],
      "metadata": {
        "id": "npPig6WyLTY0"
      },
      "execution_count": null,
      "outputs": []
    }
  ]
}