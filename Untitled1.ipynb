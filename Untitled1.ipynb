{
  "cells": [
    {
      "cell_type": "markdown",
      "metadata": {
        "id": "view-in-github",
        "colab_type": "text"
      },
      "source": [
        "<a href=\"https://colab.research.google.com/github/NehalPisalkar/Nehal2025/blob/main/Untitled1.ipynb\" target=\"_parent\"><img src=\"https://colab.research.google.com/assets/colab-badge.svg\" alt=\"Open In Colab\"/></a>"
      ]
    },
    {
      "cell_type": "code",
      "execution_count": null,
      "metadata": {
        "id": "_ktiurZv8gST"
      },
      "outputs": [],
      "source": [
        "import numpy as np\n",
        "\n"
      ]
    },
    {
      "cell_type": "code",
      "execution_count": null,
      "metadata": {
        "id": "DlQXyH6L8k_u"
      },
      "outputs": [],
      "source": [
        "# b =  np.array([\n",
        "#     [1,2],\n",
        "#  [3,4]])\n",
        "# print(b)"
      ]
    },
    {
      "cell_type": "code",
      "execution_count": null,
      "metadata": {
        "id": "BiBxLk2T8r3c"
      },
      "outputs": [],
      "source": [
        "# c = np.array([[1,2],[3,4],\n",
        "#  [4,5],[6,7]])\n",
        "# c"
      ]
    },
    {
      "cell_type": "code",
      "execution_count": null,
      "metadata": {
        "id": "UdL5B3-CAFDz"
      },
      "outputs": [],
      "source": []
    },
    {
      "cell_type": "code",
      "execution_count": null,
      "metadata": {
        "id": "E7K0hyAGB0jj"
      },
      "outputs": [],
      "source": [
        "# a= np.array([1,2,3],dtype=complex)\n",
        "# print(a)\n",
        "# (a.dtype)"
      ]
    },
    {
      "cell_type": "code",
      "execution_count": null,
      "metadata": {
        "id": "2zmqKShGE7To"
      },
      "outputs": [],
      "source": [
        "# a = np.array([[[1,2,3],[1,2,3]],[[1,2,3],\n",
        "#                 [1,2,3]],[[1,2,3],[1,2,3]],\n",
        "#                 [[1,2,3],[1,2,3]]])\n",
        "# a"
      ]
    },
    {
      "cell_type": "code",
      "execution_count": null,
      "metadata": {
        "id": "vShh9dQWFaPg"
      },
      "outputs": [],
      "source": [
        "# a = np.arange(15,60,4)\n",
        "# a"
      ]
    },
    {
      "cell_type": "code",
      "execution_count": null,
      "metadata": {
        "id": "-zEC1sQLIaNX"
      },
      "outputs": [],
      "source": [
        "# u = np.arange(12).reshape(1,1)\n",
        "# u"
      ]
    },
    {
      "cell_type": "code",
      "execution_count": null,
      "metadata": {
        "id": "siSmXL2dKGq4"
      },
      "outputs": [],
      "source": [
        "# # np.ones((2,2,2))\n",
        "# np.zeros((3,3,3))"
      ]
    },
    {
      "cell_type": "code",
      "execution_count": null,
      "metadata": {
        "id": "K-9yTfx2Kb2O"
      },
      "outputs": [],
      "source": [
        "# #2\n",
        "# import numpy as np\n",
        "# a = np.arange(50)  # Creates a 1D array from 0 to 23\n",
        "# b = a.reshape(5,5 , 2)  # Reshape it into a 2x3x4 3D array\n",
        "# print(b)\n",
        "\n"
      ]
    },
    {
      "cell_type": "code",
      "execution_count": null,
      "metadata": {
        "id": "npPig6WyLTY0"
      },
      "outputs": [],
      "source": [
        "# np.random.random((3,4))\n"
      ]
    },
    {
      "cell_type": "code",
      "execution_count": null,
      "metadata": {
        "id": "Zf41UPw8M7Xa"
      },
      "outputs": [],
      "source": [
        "# import numpy as np\n",
        "# a = np.linspace(1, 10, 20)\n",
        "# print(a)"
      ]
    },
    {
      "cell_type": "code",
      "execution_count": null,
      "metadata": {
        "colab": {
          "base_uri": "https://localhost:8080/"
        },
        "id": "3Q1YOc8DOnnE",
        "outputId": "0be82fac-9a68-4ee8-8547-e78f3c5b9e0b"
      },
      "outputs": [
        {
          "name": "stdout",
          "output_type": "stream",
          "text": [
            "1\n"
          ]
        }
      ],
      "source": [
        "a = np.arange(10)\n",
        "print(a.ndim)\n"
      ]
    },
    {
      "cell_type": "code",
      "execution_count": null,
      "metadata": {
        "id": "hIXxlLEPi6Cz"
      },
      "outputs": [],
      "source": []
    },
    {
      "cell_type": "code",
      "execution_count": null,
      "metadata": {
        "colab": {
          "base_uri": "https://localhost:8080/"
        },
        "id": "1vLCSI7WlV-a",
        "outputId": "d4251afa-7ba6-4ad0-ab33-957181b4a5ac"
      },
      "outputs": [
        {
          "name": "stdout",
          "output_type": "stream",
          "text": [
            "8\n"
          ]
        }
      ],
      "source": [
        "# a = np.arange(10)\n",
        "# print(a.itemsize)"
      ]
    },
    {
      "cell_type": "code",
      "execution_count": null,
      "metadata": {
        "colab": {
          "base_uri": "https://localhost:8080/"
        },
        "id": "5R-7YD7rnNNP",
        "outputId": "2d7eb7c8-8790-460b-fe25-18692fa3f8e2"
      },
      "outputs": [
        {
          "name": "stdout",
          "output_type": "stream",
          "text": [
            "int32\n"
          ]
        }
      ],
      "source": [
        "# a = np.arange(10,dtype=np.int32)\n",
        "# print(a.dtype)"
      ]
    },
    {
      "cell_type": "code",
      "execution_count": null,
      "metadata": {
        "colab": {
          "base_uri": "https://localhost:8080/"
        },
        "id": "a-Biz5o7nYjr",
        "outputId": "32553527-5000-4cd5-f9a2-c1c40fe0e0ac"
      },
      "outputs": [
        {
          "name": "stdout",
          "output_type": "stream",
          "text": [
            "40\n"
          ]
        }
      ],
      "source": [
        "# a = np.arange(10,dtype=np.int32)\n",
        "# # print(a.nbytes)"
      ]
    },
    {
      "cell_type": "markdown",
      "metadata": {
        "id": "Z2rzccQ9ofzY"
      },
      "source": []
    },
    {
      "cell_type": "code",
      "execution_count": null,
      "metadata": {
        "id": "Q6LK_68RonbD"
      },
      "outputs": [],
      "source": []
    },
    {
      "cell_type": "code",
      "execution_count": null,
      "metadata": {
        "id": "jIrgkL0fnjjA"
      },
      "outputs": [],
      "source": []
    },
    {
      "cell_type": "code",
      "execution_count": null,
      "metadata": {
        "colab": {
          "base_uri": "https://localhost:8080/"
        },
        "id": "rZN61grOoaK4",
        "outputId": "1aa9b527-0a6d-4db0-aaf7-a9202086d476"
      },
      "outputs": [
        {
          "name": "stdout",
          "output_type": "stream",
          "text": [
            "2\n"
          ]
        }
      ],
      "source": [
        "# a2 = np.arange(12,dtype=float).reshape(3,4)\n",
        "# print(a2.ndim)"
      ]
    },
    {
      "cell_type": "code",
      "execution_count": null,
      "metadata": {
        "colab": {
          "base_uri": "https://localhost:8080/"
        },
        "id": "feT9cczyo6sO",
        "outputId": "0b90f1db-1f1f-4747-d8ea-0f41e72303bf"
      },
      "outputs": [
        {
          "name": "stdout",
          "output_type": "stream",
          "text": [
            "(3, 4)\n"
          ]
        }
      ],
      "source": [
        "print(a2.shape)"
      ]
    },
    {
      "cell_type": "code",
      "execution_count": null,
      "metadata": {
        "colab": {
          "base_uri": "https://localhost:8080/"
        },
        "id": "17tnRp7TpORJ",
        "outputId": "85c57c05-c373-403c-d0d3-3848d60db404"
      },
      "outputs": [
        {
          "name": "stdout",
          "output_type": "stream",
          "text": [
            "float64\n"
          ]
        }
      ],
      "source": [
        "print(a2.dtype)"
      ]
    },
    {
      "cell_type": "code",
      "execution_count": null,
      "metadata": {
        "colab": {
          "base_uri": "https://localhost:8080/"
        },
        "id": "A_K7iVhJpRrL",
        "outputId": "c054d96c-e4a6-4b29-8d50-b4f15ba641f8"
      },
      "outputs": [
        {
          "name": "stdout",
          "output_type": "stream",
          "text": [
            "(3, 4)\n"
          ]
        }
      ],
      "source": [
        "print(a2.shape)"
      ]
    },
    {
      "cell_type": "code",
      "execution_count": null,
      "metadata": {
        "colab": {
          "base_uri": "https://localhost:8080/"
        },
        "id": "6Xe0h9HMpa7t",
        "outputId": "21adae65-35e1-4de1-95db-3f67e742e5bb"
      },
      "outputs": [
        {
          "data": {
            "text/plain": [
              "array([[ 0.,  1.,  2.,  3.],\n",
              "       [ 4.,  5.,  6.,  7.],\n",
              "       [ 8.,  9., 10., 11.]])"
            ]
          },
          "execution_count": 20,
          "metadata": {},
          "output_type": "execute_result"
        }
      ],
      "source": [
        "a2.astype(np.float64)"
      ]
    },
    {
      "cell_type": "code",
      "execution_count": null,
      "metadata": {
        "colab": {
          "base_uri": "https://localhost:8080/"
        },
        "id": "zXg3fgsvqI3N",
        "outputId": "6fe26911-f07c-42f7-89fb-959752ea2eec"
      },
      "outputs": [
        {
          "data": {
            "text/plain": [
              "dtype('float64')"
            ]
          },
          "execution_count": 21,
          "metadata": {},
          "output_type": "execute_result"
        }
      ],
      "source": [
        "a.astype(np.float64).dtype"
      ]
    },
    {
      "cell_type": "code",
      "execution_count": null,
      "metadata": {
        "colab": {
          "base_uri": "https://localhost:8080/"
        },
        "id": "jcgwA0-hqUUM",
        "outputId": "efd10056-e1a9-48a5-d584-996320db98ad"
      },
      "outputs": [
        {
          "name": "stdout",
          "output_type": "stream",
          "text": [
            "11\n"
          ]
        }
      ],
      "source": [
        "# import numpy as np\n",
        "\n",
        "# a = np.array([1, 2])\n",
        "# b = np.array([3, 4])\n",
        "# print(np.dot(a, b))  # Output: 11\n",
        "\n",
        "\n",
        "\n"
      ]
    },
    {
      "cell_type": "code",
      "execution_count": null,
      "metadata": {
        "colab": {
          "base_uri": "https://localhost:8080/"
        },
        "id": "54COWwYYDU73",
        "outputId": "5e09620b-502c-46d8-a786-9f87f3b213af"
      },
      "outputs": [
        {
          "name": "stdout",
          "output_type": "stream",
          "text": [
            "[ 2.71828183  7.3890561  20.08553692 54.59815003]\n",
            "[0.         0.69314718 1.09861229 1.38629436]\n",
            "[0.        1.        1.5849625 2.       ]\n",
            "[0.         0.30103    0.47712125 0.60205999]\n"
          ]
        }
      ],
      "source": [
        "# a = np.array([1,2,3,4])\n",
        "# a\n",
        "# print(np.exp(a))\n",
        "# print(np.log(a))\n",
        "# print(np.log2(a))\n",
        "# print(np.log10(a))"
      ]
    },
    {
      "cell_type": "code",
      "execution_count": null,
      "metadata": {
        "colab": {
          "base_uri": "https://localhost:8080/"
        },
        "id": "SfrNDON7Eevi",
        "outputId": "9ab87014-4fdb-4400-e8ad-adbbdbcbc181"
      },
      "outputs": [
        {
          "name": "stdout",
          "output_type": "stream",
          "text": [
            "Original: [ 1.2  2.5  3.7 -1.2 -2.5 -3.7]\n",
            "Round: [ 1.  2.  4. -1. -2. -4.]\n",
            "Floor: [ 1.  2.  3. -2. -3. -4.]\n",
            "Ceil: [ 2.  3.  4. -1. -2. -3.]\n"
          ]
        }
      ],
      "source": [
        "# import numpy as np\n",
        "\n",
        "# a = np.array([1.2, 2.5, 3.7, -1.2, -2.5, -3.7])\n",
        "\n",
        "# print(\"Original:\", a)\n",
        "# print(\"Round:\", np.round(a))\n",
        "# print(\"Floor:\", np.floor(a))\n",
        "# print(\"Ceil:\", np.ceil(a))"
      ]
    },
    {
      "cell_type": "code",
      "execution_count": null,
      "metadata": {
        "colab": {
          "base_uri": "https://localhost:8080/"
        },
        "id": "6ZCqgdCXFg94",
        "outputId": "b4c253e3-c885-496e-c47d-ef327e63da72"
      },
      "outputs": [
        {
          "data": {
            "text/plain": [
              "np.int64(3)"
            ]
          },
          "execution_count": 15,
          "metadata": {},
          "output_type": "execute_result"
        }
      ],
      "source": [
        "a1 = np.arange(10)\n",
        "a1[3]"
      ]
    },
    {
      "cell_type": "code",
      "execution_count": null,
      "metadata": {
        "colab": {
          "base_uri": "https://localhost:8080/"
        },
        "id": "7RrRBkfkNGPi",
        "outputId": "dce36c87-f0e9-4f3c-d27d-be238390d6a0"
      },
      "outputs": [
        {
          "data": {
            "text/plain": [
              "np.int64(4)"
            ]
          },
          "execution_count": 16,
          "metadata": {},
          "output_type": "execute_result"
        }
      ],
      "source": [
        "a1[4]"
      ]
    },
    {
      "cell_type": "code",
      "execution_count": null,
      "metadata": {
        "colab": {
          "background_save": true
        },
        "id": "RvDP8EzoNb0x",
        "outputId": "62eaecb1-8a06-4c38-a0ab-41910470e783"
      },
      "outputs": [
        {
          "data": {
            "text/plain": [
              "array([[1, 3],\n",
              "       [5, 7]])"
            ]
          },
          "execution_count": 18,
          "metadata": {},
          "output_type": "execute_result"
        }
      ],
      "source": [
        "a2=np.arange(12).reshape()"
      ]
    },
    {
      "cell_type": "code",
      "source": [
        "# a = [i for i in range(10000000)]\n",
        "# b = [i for i in range(10000000,20000000)]\n",
        "\n",
        "# c = []\n",
        "# import time\n",
        "\n",
        "# start = time.time()\n",
        "# for i in range(len(a)):\n",
        "#   c.append(a[i] + b[i])\n",
        "# print(time.time()-start)"
      ],
      "metadata": {
        "colab": {
          "base_uri": "https://localhost:8080/"
        },
        "id": "fwWTWKkGk0cF",
        "outputId": "db1999ab-09cf-46ee-98c9-d0126e9ca9b4"
      },
      "execution_count": 2,
      "outputs": [
        {
          "output_type": "stream",
          "name": "stdout",
          "text": [
            "3.1079931259155273\n"
          ]
        }
      ]
    },
    {
      "cell_type": "code",
      "source": [
        "# import numpy as np\n",
        "# a = np.arange(10000000)\n",
        "# b = np.arange(10000000,20000000)\n",
        "\n",
        "# start = time.time()\n",
        "# c = a + b\n",
        "# print(time.time()-start)"
      ],
      "metadata": {
        "colab": {
          "base_uri": "https://localhost:8080/"
        },
        "id": "pOa5ko9rlV0V",
        "outputId": "7481b4d0-595c-480d-e8cf-e386227e890e"
      },
      "execution_count": 6,
      "outputs": [
        {
          "output_type": "stream",
          "name": "stdout",
          "text": [
            "0.043352365493774414\n"
          ]
        }
      ]
    },
    {
      "cell_type": "code",
      "source": [
        "import sys\n",
        "a = np.arange(10000000)\n",
        "sys.getsizeof(a)"
      ],
      "metadata": {
        "colab": {
          "base_uri": "https://localhost:8080/"
        },
        "id": "ApBBn_GUmO0_",
        "outputId": "b860254e-d2eb-4016-e26c-f53a7c84423b"
      },
      "execution_count": 8,
      "outputs": [
        {
          "output_type": "execute_result",
          "data": {
            "text/plain": [
              "80000112"
            ]
          },
          "metadata": {},
          "execution_count": 8
        }
      ]
    },
    {
      "cell_type": "code",
      "source": [
        "a = np.arange(10000000,dtype=np.int8) #with changed datatype\n",
        "sys.getsizeof(a)"
      ],
      "metadata": {
        "colab": {
          "base_uri": "https://localhost:8080/"
        },
        "id": "DZvqJKoem7pB",
        "outputId": "887aa2de-fe2d-438a-ee8f-5802f1ba19e2"
      },
      "execution_count": 9,
      "outputs": [
        {
          "output_type": "execute_result",
          "data": {
            "text/plain": [
              "10000112"
            ]
          },
          "metadata": {},
          "execution_count": 9
        }
      ]
    },
    {
      "cell_type": "code",
      "source": [
        "a = np.arange(10)\n",
        "np.sin(a)"
      ],
      "metadata": {
        "colab": {
          "base_uri": "https://localhost:8080/"
        },
        "id": "103BTFV4ngdC",
        "outputId": "6193360b-e603-416e-bb46-dd68130fb54f"
      },
      "execution_count": 10,
      "outputs": [
        {
          "output_type": "execute_result",
          "data": {
            "text/plain": [
              "array([ 0.        ,  0.84147098,  0.90929743,  0.14112001, -0.7568025 ,\n",
              "       -0.95892427, -0.2794155 ,  0.6569866 ,  0.98935825,  0.41211849])"
            ]
          },
          "metadata": {},
          "execution_count": 10
        }
      ]
    },
    {
      "cell_type": "code",
      "source": [
        "# sigmoid\n",
        "def sigmoid(array):\n",
        "  return 1/(1 + np.exp(-(array)))\n",
        "\n",
        "\n",
        "a3 = np.arange(15)\n",
        "\n",
        "sigmoid(a3)"
      ],
      "metadata": {
        "colab": {
          "base_uri": "https://localhost:8080/"
        },
        "id": "tU0wJdNztROQ",
        "outputId": "d5e4801d-964f-4286-8916-97d7c2bbdd40"
      },
      "execution_count": 11,
      "outputs": [
        {
          "output_type": "execute_result",
          "data": {
            "text/plain": [
              "array([0.5       , 0.73105858, 0.88079708, 0.95257413, 0.98201379,\n",
              "       0.99330715, 0.99752738, 0.99908895, 0.99966465, 0.99987661,\n",
              "       0.9999546 , 0.9999833 , 0.99999386, 0.99999774, 0.99999917])"
            ]
          },
          "metadata": {},
          "execution_count": 11
        }
      ]
    },
    {
      "cell_type": "code",
      "source": [
        "def square(a):\n",
        "  return a*a\n",
        "\n",
        "square(a3)"
      ],
      "metadata": {
        "colab": {
          "base_uri": "https://localhost:8080/"
        },
        "id": "PwWSDaUAtVzP",
        "outputId": "59821ecc-20e2-44b1-d44c-bcfb37f0c929"
      },
      "execution_count": 12,
      "outputs": [
        {
          "output_type": "execute_result",
          "data": {
            "text/plain": [
              "array([  0,   1,   4,   9,  16,  25,  36,  49,  64,  81, 100, 121, 144,\n",
              "       169, 196])"
            ]
          },
          "metadata": {},
          "execution_count": 12
        }
      ]
    },
    {
      "cell_type": "code",
      "source": [
        "a1 = np.array([1,2,3,4,np.nan,6]) # always make the whole array elements a float object\n",
        "a1"
      ],
      "metadata": {
        "colab": {
          "base_uri": "https://localhost:8080/"
        },
        "id": "lTAXhbuctZ2T",
        "outputId": "4e272fbb-1456-49b1-9806-ed5a5f420ef8"
      },
      "execution_count": 13,
      "outputs": [
        {
          "output_type": "execute_result",
          "data": {
            "text/plain": [
              "array([ 1.,  2.,  3.,  4., nan,  6.])"
            ]
          },
          "metadata": {},
          "execution_count": 13
        }
      ]
    },
    {
      "cell_type": "code",
      "source": [
        "a1[~np.isnan(a1)]"
      ],
      "metadata": {
        "colab": {
          "base_uri": "https://localhost:8080/"
        },
        "id": "T4V3QHoptgbK",
        "outputId": "5ea55067-8ced-4b71-fef6-26dca5e3b5fb"
      },
      "execution_count": 14,
      "outputs": [
        {
          "output_type": "execute_result",
          "data": {
            "text/plain": [
              "array([1., 2., 3., 4., 6.])"
            ]
          },
          "metadata": {},
          "execution_count": 14
        }
      ]
    },
    {
      "cell_type": "code",
      "source": [
        "a = np.array([1,2,3,4,'nan',6])\n",
        "a"
      ],
      "metadata": {
        "colab": {
          "base_uri": "https://localhost:8080/"
        },
        "id": "eSsf3OaftkDp",
        "outputId": "7f9467ce-d0b1-4b0a-8c65-89ae91f6b9e4"
      },
      "execution_count": 15,
      "outputs": [
        {
          "output_type": "execute_result",
          "data": {
            "text/plain": [
              "array(['1', '2', '3', '4', 'nan', '6'], dtype='<U21')"
            ]
          },
          "metadata": {},
          "execution_count": 15
        }
      ]
    },
    {
      "cell_type": "code",
      "source": [],
      "metadata": {
        "id": "1hrwInrztpKq"
      },
      "execution_count": null,
      "outputs": []
    }
  ],
  "metadata": {
    "colab": {
      "provenance": [],
      "authorship_tag": "ABX9TyNx6lYHSaVGWthJLhKQdRJf",
      "include_colab_link": true
    },
    "kernelspec": {
      "display_name": "Python 3",
      "name": "python3"
    },
    "language_info": {
      "name": "python"
    }
  },
  "nbformat": 4,
  "nbformat_minor": 0
}